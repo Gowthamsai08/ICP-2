{
  "nbformat": 4,
  "nbformat_minor": 0,
  "metadata": {
    "colab": {
      "provenance": []
    },
    "kernelspec": {
      "name": "python3",
      "display_name": "Python 3"
    },
    "language_info": {
      "name": "python"
    }
  },
  "cells": [
    {
      "cell_type": "code",
      "execution_count": 3,
      "metadata": {
        "colab": {
          "base_uri": "https://localhost:8080/"
        },
        "id": "XR6jovCdjwg_",
        "outputId": "9d3b249e-0e9a-4649-c7f2-e962f92a2a96"
      },
      "outputs": [
        {
          "output_type": "stream",
          "name": "stdout",
          "text": [
            "Average Salary for Employees: 65000.0\n",
            "Average Salary for FullTimeEmployee: 80000.0\n",
            "Total Employees: 3\n"
          ]
        }
      ],
      "source": [
        "#Program 1\n",
        "class Employee:\n",
        "    # Class variable to count the number of employees\n",
        "    employee_count = 0\n",
        "\n",
        "    def __init__(self, name, family, salary, department):\n",
        "        # Instance variables\n",
        "        self.name = name\n",
        "        self.family = family\n",
        "        self.salary = salary\n",
        "        self.department = department\n",
        "\n",
        "        # Increment the employee count when a new employee is created\n",
        "        Employee.employee_count += 1\n",
        "\n",
        "    def average_salary(self, *salaries):\n",
        "        # Calculate and return the average salary\n",
        "        total_salary = sum(salaries) + self.salary\n",
        "        num_employees = len(salaries) + 1  # Include the current instance\n",
        "        return total_salary / num_employees\n",
        "\n",
        "\n",
        "class FullTimeEmployee(Employee):\n",
        "    # Additional properties for FullTimeEmployee can be added here\n",
        "\n",
        "    def __init__(self, name, family, salary, department, fulltime_property):\n",
        "        # Call the constructor of the base class (Employee)\n",
        "        super().__init__(name, family, salary, department)\n",
        "\n",
        "        # Additional property specific to FullTimeEmployee\n",
        "        self.fulltime_property = fulltime_property\n",
        "\n",
        "\n",
        "# Create instances of Employee class\n",
        "employee1 = Employee(\"Gowtham sai M\", \"Family1\", 60000, \"DM\")\n",
        "employee2 = Employee(\"Teju A\", \"Family2\", 70000, \"HR\")\n",
        "\n",
        "# Call the average_salary function for Employee class\n",
        "average_salary_employee = employee1.average_salary(employee2.salary)\n",
        "print(f\"Average Salary for Employees: {average_salary_employee}\")\n",
        "\n",
        "# Create instances of FullTimeEmployee class\n",
        "fulltime_employee = FullTimeEmployee(\"keerthi\", \"Family3\", 80000, \"Software\", \"FullTimeProperty\")\n",
        "\n",
        "# Call the average_salary function for FullTimeEmployee class\n",
        "average_salary_fulltime_employee = fulltime_employee.average_salary()\n",
        "print(f\"Average Salary for FullTimeEmployee: {average_salary_fulltime_employee}\")\n",
        "\n",
        "# Print the total count of employees\n",
        "print(f\"Total Employees: {Employee.employee_count}\")"
      ]
    },
    {
      "cell_type": "code",
      "source": [
        "import numpy as np\n",
        "\n",
        "# Create a random vector of size 20 with floats in the range 1 to 20\n",
        "random_vector = np.random.uniform(1, 20, 20)\n",
        "\n",
        "# Reshape the array to 4 by 5\n",
        "reshaped_array = random_vector.reshape(4, 5)\n",
        "\n",
        "# Replace the maximum in each row by 0 without using a for loop\n",
        "max_in_rows = np.max(reshaped_array, axis=1, keepdims=True)\n",
        "reshaped_array[reshaped_array == max_in_rows] = 0\n",
        "\n",
        "print(\"Reshaped Array after replacing max in each row by 0:\")\n",
        "print(reshaped_array)"
      ],
      "metadata": {
        "colab": {
          "base_uri": "https://localhost:8080/"
        },
        "id": "DFt_hlrekX8r",
        "outputId": "8da7d28c-2284-405b-c314-9b2fdf8921bf"
      },
      "execution_count": 10,
      "outputs": [
        {
          "output_type": "stream",
          "name": "stdout",
          "text": [
            "Reshaped Array after replacing max in each row by 0:\n",
            "[[ 3.02128064 13.84869931  8.18280708  0.         12.4666792 ]\n",
            " [ 0.         14.44725027  1.83845642 14.9312596   3.77063247]\n",
            " [ 4.33956727  6.15231966  4.28533618  0.         15.96763931]\n",
            " [13.87432278  0.         15.39544435 14.60314778 10.7638064 ]]\n"
          ]
        }
      ]
    }
  ]
}